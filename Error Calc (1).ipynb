{
 "cells": [
  {
   "cell_type": "code",
   "execution_count": 4,
   "id": "61020842",
   "metadata": {},
   "outputs": [
    {
     "name": "stdout",
     "output_type": "stream",
     "text": [
      "c =  205.2\n"
     ]
    }
   ],
   "source": [
    "import numpy as np \n",
    "\n",
    "def fred(a,b):\n",
    "    c = (a+b)*12\n",
    "    return c\n",
    "\n",
    "a = 13.2 \n",
    "\n",
    "b = 3.9\n",
    "\n",
    "c = fred(a,b)\n",
    "\n",
    "print(\"c = \",c)"
   ]
  },
  {
   "cell_type": "code",
   "execution_count": 5,
   "id": "ee9d5946",
   "metadata": {},
   "outputs": [
    {
     "name": "stdout",
     "output_type": "stream",
     "text": [
      "dQ =  5.772347875864724\n"
     ]
    }
   ],
   "source": [
    "import numpy as np\n",
    "\n",
    "def rule3(dA,dB):\n",
    "    dQ = np.sqrt(dA**2 + dB**2)\n",
    "    return dQ\n",
    "dA = 1.4 \n",
    "\n",
    "dB = 5.6\n",
    "\n",
    "dQ = rule3(dA,dB)\n",
    "\n",
    "print(\"dQ = \",dQ)"
   ]
  },
  {
   "cell_type": "code",
   "execution_count": 12,
   "id": "b52d14a5",
   "metadata": {},
   "outputs": [
    {
     "name": "stdout",
     "output_type": "stream",
     "text": [
      "[3.   3.3  2.7  2.4  2.55]\n",
      "[ 9.     10.89    7.29    5.76    6.5025]\n",
      "the average of x is 0.9299999999999999 the error in x is 0.048166378315169185\n"
     ]
    }
   ],
   "source": [
    "#code for rule 3\n",
    "import numpy as np\n",
    "\n",
    "x = np.array([1,1.1,0.9,0.8,0.85])\n",
    "\n",
    "y = x*3\n",
    "\n",
    "print (y)\n",
    "\n",
    "ysq = y**2\n",
    "\n",
    "print(ysq)\n",
    "\n",
    "err_x = np.std(x)/np.sqrt(5)\n",
    "\n",
    "avgx = np.average(x)\n",
    "\n",
    "print(\"the average of x is\",avgx,\"the error in x is\", err_x)"
   ]
  },
  {
   "cell_type": "markdown",
   "id": "4dfa4ab5",
   "metadata": {},
   "source": [
    "$\\delta F = g\\delta m$"
   ]
  },
  {
   "cell_type": "markdown",
   "id": "b1cfd4d9",
   "metadata": {},
   "source": [
    "# This is so Fun!!!!"
   ]
  },
  {
   "cell_type": "markdown",
   "id": "30a43858",
   "metadata": {},
   "source": [
    "# $\\delta Q = \\sqrt{(\\delta A)^2 + (\\delta B)^2}$ "
   ]
  },
  {
   "cell_type": "markdown",
   "id": "9f75aca3",
   "metadata": {},
   "source": [
    "### $\\frac{\\delta A}{A}$"
   ]
  },
  {
   "cell_type": "code",
   "execution_count": 42,
   "id": "3f978d8a",
   "metadata": {},
   "outputs": [
    {
     "name": "stdout",
     "output_type": "stream",
     "text": [
      "the error in Q = [3.55902608]\n"
     ]
    }
   ],
   "source": [
    "#Code for rule one \n",
    "#? represents data that needs entry\n",
    "\n",
    "import numpy as np\n",
    "#def rule1 = (Q,A,c)\n",
    "\n",
    "#Q is my quantity A is my value and c is a constant\n",
    "\n",
    "Q = np.array ([?])\n",
    "\n",
    "A = np.array ([?])\n",
    "\n",
    "c = np.array ([?])\n",
    "\n",
    "#Finding my uncertanties \n",
    "\n",
    "err_A = np.std(A)/np.sqrt(len(A)) \n",
    "\n",
    "err_Q = np.std(Q)/np.sqrt(len(Q))\n",
    "\n",
    "#putting the calculations together\n",
    "\n",
    "print (\"the error in Q =\", err_A * c)\n"
   ]
  },
  {
   "cell_type": "markdown",
   "id": "c8090d78",
   "metadata": {},
   "source": [
    "#### "
   ]
  },
  {
   "cell_type": "markdown",
   "id": "69e895e2",
   "metadata": {},
   "source": [
    "# $ \\delta Q = \\delta A * c $"
   ]
  },
  {
   "cell_type": "code",
   "execution_count": 18,
   "id": "4f2186cd",
   "metadata": {},
   "outputs": [
    {
     "ename": "SyntaxError",
     "evalue": "invalid syntax (207067311.py, line 7)",
     "output_type": "error",
     "traceback": [
      "\u001b[0;36m  Input \u001b[0;32mIn [18]\u001b[0;36m\u001b[0m\n\u001b[0;31m    Q = int (?)\u001b[0m\n\u001b[0m             ^\u001b[0m\n\u001b[0;31mSyntaxError\u001b[0m\u001b[0;31m:\u001b[0m invalid syntax\n"
     ]
    }
   ],
   "source": [
    "#Code for rule 2\n",
    "#? represents data that needs entry\n",
    "import numpy as np\n",
    "\n",
    "#setting variables Q is my quantity that is being measured c is my constant m is my exponent and A is a meausured quantity  \n",
    "\n",
    "Q = int (?)\n",
    "\n",
    "c = int (?)\n",
    "\n",
    "m = int (?)\n",
    "\n",
    "A = np.array ([?,?])\n",
    "\n",
    "Z = (m - 1)\n",
    "\n",
    "X = (np.mean(A)**Z)\n",
    "\n",
    "#making the calculations necessary for final formula and setting a variable for error in A\n",
    "\n",
    "err_A = np.std(A)/np.sqrt(len(A))\n",
    "\n",
    "a = err_A\n",
    "\n",
    "print(\"the error in Q = \" c*m*X*a)\n"
   ]
  },
  {
   "cell_type": "markdown",
   "id": "2af8ca53",
   "metadata": {},
   "source": [
    "# $\\delta Q = c*m*A^{m-1}*\\delta A$"
   ]
  },
  {
   "cell_type": "code",
   "execution_count": 19,
   "id": "22c911a0",
   "metadata": {},
   "outputs": [
    {
     "name": "stdout",
     "output_type": "stream",
     "text": [
      "The fractional uncertanty is  1.9686430746977863\n"
     ]
    }
   ],
   "source": [
    "#oode for rule 4 \n",
    "#? represents data that needs entry\n",
    "import numpy as np \n",
    "\n",
    "#Setting Variables\n",
    "\n",
    "Q = int (?)\n",
    "\n",
    "A = np.array ([?,?])\n",
    "\n",
    "B = np.array ([?,?])\n",
    "\n",
    "m = int (?)\n",
    "\n",
    "n = int (?)\n",
    "\n",
    "#These are all of my variables I am not including c because it is not in the final equation\n",
    "\n",
    "err_A = np.std(A)/np.sqrt(len(A))\n",
    "\n",
    "err_B = np.std(B)/np.sqrt(len(B))\n",
    "\n",
    "#setting more variables to make final equation easier \n",
    "\n",
    "a = pow(m*err_A/np.mean(A), 2)\n",
    "\n",
    "b = pow(n*err_B/np.mean(B), 2)\n",
    " \n",
    "#putting everything together\n",
    "     \n",
    "q = np.sqrt(a + b)\n",
    "     \n",
    "\n",
    "print(\"The fractional uncertanty is \", q )     \n",
    "\n"
   ]
  },
  {
   "cell_type": "markdown",
   "id": "4f4a8c3b",
   "metadata": {},
   "source": [
    "# $\\frac {\\delta Q}{Q} = \\sqrt{ \\frac { m* \\delta A}A^2 + \\frac {n *\\delta B}B^2} $ "
   ]
  }
 ],
 "metadata": {
  "kernelspec": {
   "display_name": "Python 3 (ipykernel)",
   "language": "python",
   "name": "python3"
  },
  "language_info": {
   "codemirror_mode": {
    "name": "ipython",
    "version": 3
   },
   "file_extension": ".py",
   "mimetype": "text/x-python",
   "name": "python",
   "nbconvert_exporter": "python",
   "pygments_lexer": "ipython3",
   "version": "3.9.12"
  }
 },
 "nbformat": 4,
 "nbformat_minor": 5
}
